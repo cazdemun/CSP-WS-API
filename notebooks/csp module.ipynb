{
 "cells": [
  {
   "cell_type": "code",
   "execution_count": 1,
   "metadata": {},
   "outputs": [],
   "source": [
    "import os\n",
    "import sys\n",
    "sys.path.append(os.path.join(os.getcwd(), 'cortex'))\n",
    "\n",
    "from classifier import Classifier"
   ]
  },
  {
   "cell_type": "code",
   "execution_count": 2,
   "metadata": {},
   "outputs": [],
   "source": [
    "classifier = Classifier()\n",
    "user = { 'userid': 'charls' }\n",
    "classifier.train(user)"
   ]
  },
  {
   "cell_type": "code",
   "execution_count": 3,
   "metadata": {},
   "outputs": [
    {
     "data": {
      "text/plain": [
       "True"
      ]
     },
     "execution_count": 3,
     "metadata": {},
     "output_type": "execute_result"
    }
   ],
   "source": [
    "classifier.trained"
   ]
  },
  {
   "cell_type": "code",
   "execution_count": 5,
   "metadata": {},
   "outputs": [],
   "source": [
    "import numpy as np\n",
    "\n",
    "def get_data():\n",
    "\tarr = np.random.randint(1000, size = 14)\n",
    "\tarr = arr / (10 ** 8) * 4\n",
    "\tarr = (arr * (10 ** 6)) + 4200\n",
    "\treturn arr\n",
    "\n",
    "# I highly doubt the sample rate will change in a future\n",
    "def record_data(seconds, cortex=None):\n",
    "\tsample_period = 0.0078125\n",
    "\tsamples_frequency = 128 # sps\n",
    "\tsamples = int(seconds * samples_frequency)\n",
    "\n",
    "\trecord = np.empty((14,1))\n",
    "\n",
    "\tfor i in range(0,samples + 1):\n",
    "\t\tsample = get_data()\n",
    "\n",
    "\t\trecord = np.insert(record, i + 1, sample, axis=1)\n",
    "\t\n",
    "\trecord = np.delete(record, 0, 1)\n",
    "\treturn record\n"
   ]
  },
  {
   "cell_type": "code",
   "execution_count": 138,
   "metadata": {},
   "outputs": [],
   "source": [
    "def normalize_data(channel):\n",
    "    channel = (channel - 4200) / 10 ** 6\n",
    "    return channel"
   ]
  },
  {
   "cell_type": "code",
   "execution_count": 165,
   "metadata": {},
   "outputs": [
    {
     "name": "stdout",
     "output_type": "stream",
     "text": [
      "(1, 14, 65)\n",
      "[0]\n"
     ]
    }
   ],
   "source": [
    "epoch = np.array([record_data(0.5)])\n",
    "print(epoch.shape)\n",
    "normal_epoch = normalize_data(epoch)\n",
    "# print(epoch)\n",
    "print(classifier.predict(normal_epoch, None))"
   ]
  },
  {
   "cell_type": "code",
   "execution_count": null,
   "metadata": {},
   "outputs": [],
   "source": []
  },
  {
   "cell_type": "code",
   "execution_count": 24,
   "metadata": {},
   "outputs": [
    {
     "data": {
      "text/plain": [
       "array([0])"
      ]
     },
     "execution_count": 24,
     "metadata": {},
     "output_type": "execute_result"
    }
   ],
   "source": [
    "classifier.predict(epoch, None)"
   ]
  }
 ],
 "metadata": {
  "kernelspec": {
   "display_name": "Python 3",
   "language": "python",
   "name": "python3"
  },
  "language_info": {
   "codemirror_mode": {
    "name": "ipython",
    "version": 3
   },
   "file_extension": ".py",
   "mimetype": "text/x-python",
   "name": "python",
   "nbconvert_exporter": "python",
   "pygments_lexer": "ipython3",
   "version": "3.7.4"
  }
 },
 "nbformat": 4,
 "nbformat_minor": 2
}
