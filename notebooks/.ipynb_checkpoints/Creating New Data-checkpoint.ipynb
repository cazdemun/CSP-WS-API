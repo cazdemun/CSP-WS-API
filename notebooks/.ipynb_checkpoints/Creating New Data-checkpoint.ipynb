{
 "cells": [
  {
   "cell_type": "code",
   "execution_count": 2,
   "metadata": {},
   "outputs": [],
   "source": [
    "import mne\n",
    "import numpy as np"
   ]
  },
  {
   "cell_type": "code",
   "execution_count": 3,
   "metadata": {},
   "outputs": [
    {
     "ename": "IndentationError",
     "evalue": "unexpected indent (<ipython-input-3-07aab2dd2f6d>, line 19)",
     "output_type": "error",
     "traceback": [
      "\u001b[1;36m  File \u001b[1;32m\"<ipython-input-3-07aab2dd2f6d>\"\u001b[1;36m, line \u001b[1;32m19\u001b[0m\n\u001b[1;33m    info['description'] = 'Emotiv EPOC+ dataset obtainer from Cortex API'\u001b[0m\n\u001b[1;37m    ^\u001b[0m\n\u001b[1;31mIndentationError\u001b[0m\u001b[1;31m:\u001b[0m unexpected indent\n"
     ]
    }
   ],
   "source": [
    "# Names for each channel\n",
    "channel_names = [ 'AF3', 'F7', 'F3', 'FC5', 'T7', 'P7', 'O1', 'O2', 'P8', 'T8', 'FC6', 'F4', 'F8', 'AF4' ]\n",
    "\n",
    "# The type (mag, grad, eeg, eog, misc, ...) of each channel\n",
    "channel_types = [ 'eeg', 'eeg', 'eeg', 'eeg', 'eeg', 'eeg', 'eeg', 'eeg', 'eeg', 'eeg', 'eeg', 'eeg', 'eeg', 'eeg' ]\n",
    "\n",
    "# The sampling rate of the recording\n",
    "# https://www.emotiv.com/comparison/ (128 SPS or 256 SPS)\n",
    "sfreq = 128  # in Hertz\n",
    "\n",
    "# The EEG channels use the standard naming strategy.\n",
    "# By supplying the 'montage' parameter, approximate locations will be added for them\n",
    "montage = 'standard_1005'\n",
    "\n",
    "# Initialize required fields\n",
    "info = mne.create_info(channel_names, sfreq, channel_types, montage)\n",
    "\n",
    "# Add some more information\n",
    "info['description'] = 'Emotiv EPOC+ dataset obtainer from Cortex API'\n",
    "\n",
    "# Names of bad channels\n",
    "# info['bads'] = ['Pz']  \n",
    "\n",
    "print(info)"
   ]
  },
  {
   "cell_type": "code",
   "execution_count": null,
   "metadata": {},
   "outputs": [],
   "source": []
  },
  {
   "cell_type": "code",
   "execution_count": null,
   "metadata": {},
   "outputs": [],
   "source": []
  },
  {
   "cell_type": "code",
   "execution_count": null,
   "metadata": {},
   "outputs": [],
   "source": []
  }
 ],
 "metadata": {
  "kernelspec": {
   "display_name": "Python 3",
   "language": "python",
   "name": "python3"
  },
  "language_info": {
   "codemirror_mode": {
    "name": "ipython",
    "version": 3
   },
   "file_extension": ".py",
   "mimetype": "text/x-python",
   "name": "python",
   "nbconvert_exporter": "python",
   "pygments_lexer": "ipython3",
   "version": "3.7.4"
  }
 },
 "nbformat": 4,
 "nbformat_minor": 2
}
